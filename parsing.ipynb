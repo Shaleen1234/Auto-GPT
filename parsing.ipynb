{
  "cells": [
    {
      "cell_type": "markdown",
      "metadata": {
        "id": "view-in-github",
        "colab_type": "text"
      },
      "source": [
        "<a href=\"https://colab.research.google.com/github/Shaleen1234/Auto-GPT/blob/master/parsing.ipynb\" target=\"_parent\"><img src=\"https://colab.research.google.com/assets/colab-badge.svg\" alt=\"Open In Colab\"/></a>"
      ]
    },
    {
      "cell_type": "code",
      "execution_count": null,
      "id": "7a29e079-2a81-4971-a395-92b2bb819dcc",
      "metadata": {
        "tags": [],
        "id": "7a29e079-2a81-4971-a395-92b2bb819dcc"
      },
      "outputs": [],
      "source": [
        "import requests\n",
        "import json\n",
        "from tqdm.notebook import tqdm\n",
        "from datetime import datetime"
      ]
    },
    {
      "cell_type": "code",
      "execution_count": null,
      "id": "4ee33eb6-1a6d-47eb-8909-e582da6a28ad",
      "metadata": {
        "tags": [],
        "id": "4ee33eb6-1a6d-47eb-8909-e582da6a28ad"
      },
      "outputs": [],
      "source": [
        "test1 = \"https://discord.com/api/v9/channels/989268410171006976/messages?limit=50\"\n",
        "test1_1 = \"https://discord.com/api/v9/channels/989268410171006976/messages?before=\"\n",
        "test1_2 = \"&limit=50\"\n",
        "\n",
        "test2 = {\n",
        "    \"accept\": \"*/*\",\n",
        "    \"accept-language\": \"en-US,en;q=0.9,ru;q=0.8\",\n",
        "    \"authorization\": \"NDYxNTEwNTY2MzQ3ODAwNTc2.GIdhyj.xVjwBgHv-aaZq7bZgXB6TN0wfJ8PPCrGxKC3as\",\n",
        "    \"sec-ch-ua\": \"\\\"Not_A Brand\\\";v=\\\"99\\\", \\\"Google Chrome\\\";v=\\\"109\\\", \\\"Chromium\\\";v=\\\"109\\\"\",\n",
        "    \"sec-ch-ua-mobile\": \"?0\",\n",
        "    \"sec-ch-ua-platform\": \"\\\"Linux\\\"\",\n",
        "    \"sec-fetch-dest\": \"empty\",\n",
        "    \"sec-fetch-mode\": \"cors\",\n",
        "    \"sec-fetch-site\": \"same-origin\",\n",
        "    \"x-debug-options\": \"bugReporterEnabled\",\n",
        "    \"x-discord-locale\": \"ru\",\n",
        "    \"x-discord-timezone\": \"Europe/Moscow\",\n",
        "    \"x-super-properties\": \"eyJvcyI6IkxpbnV4IiwiYnJvd3NlciI6IkNocm9tZSIsImRldmljZSI6IiIsInN5c3RlbV9sb2NhbGUiOiJlbi1VUyIsImJyb3dzZXJfdXNlcl9hZ2VudCI6Ik1vemlsbGEvNS4wIChYMTE7IExpbnV4IHg4Nl82NCkgQXBwbGVXZWJLaXQvNTM3LjM2IChLSFRNTCwgbGlrZSBHZWNrbykgQ2hyb21lLzEwOS4wLjAuMCBTYWZhcmkvNTM3LjM2IiwiYnJvd3Nlcl92ZXJzaW9uIjoiMTA5LjAuMC4wIiwib3NfdmVyc2lvbiI6IiIsInJlZmVycmVyIjoiaHR0cHM6Ly93d3cuZ29vZ2xlLmNvbS8iLCJyZWZlcnJpbmdfZG9tYWluIjoid3d3Lmdvb2dsZS5jb20iLCJzZWFyY2hfZW5naW5lIjoiZ29vZ2xlIiwicmVmZXJyZXJfY3VycmVudCI6Imh0dHBzOi8vd3d3Lmdvb2dsZS5jb20vIiwicmVmZXJyaW5nX2RvbWFpbl9jdXJyZW50Ijoid3d3Lmdvb2dsZS5jb20iLCJzZWFyY2hfZW5naW5lX2N1cnJlbnQiOiJnb29nbGUiLCJyZWxlYXNlX2NoYW5uZWwiOiJzdGFibGUiLCJjbGllbnRfYnVpbGRfbnVtYmVyIjoyMTM1MTAsImNsaWVudF9ldmVudF9zb3VyY2UiOm51bGx9\",\n",
        "    \"cookie\": \"__dcfduid=82a104a0d4f511edb54ff55c1d010756; __sdcfduid=82a104a1d4f511edb54ff55c1d0107560aa4b6f41965227cdc7dd9989ca24432fb9a620ff28f0b88c831d41206664f5c; _ga=GA1.1.229010219.1680838646; _gcl_au=1.1.1340688836.1689592772; __cf_bm=HlN0M3xIRyv5NINYd6lli97OJPoIivVSW9qqWGDqW_k-1689592771-0-AQ0i3fsPGYei09i7qQJBy5yn5wEsI7c5MY4qTExaB/zGiXKAWcJrW9/4CPvvpmlo8w==; _ga_Q149DFWHT7=GS1.1.1689592771.3.0.1689592771.0.0.0; OptanonConsent=isIABGlobal=false&datestamp=Mon+Jul+17+2023+14%3A19%3A32+GMT%2B0300+(Moscow+Standard+Time)&version=6.33.0&hosts=&landingPath=https%3A%2F%2Fdiscord.com%2F&groups=C0001%3A1%2CC0002%3A1%2CC0003%3A1; locale=ru; __cfruid=69702949ae49e0e147c3d3d12fdef3fd07c79eee-1689593517\",\n",
        "    \"Referer\": \"https://discord.com/channels/662267976984297473/989268410171006976\",\n",
        "    \"Referrer-Policy\": \"strict-origin-when-cross-origin\"\n",
        "  }\n",
        "r = requests.get(test1,\n",
        "  headers=test2)"
      ]
    },
    {
      "cell_type": "code",
      "execution_count": null,
      "id": "dedb2d0a-67a9-4105-8b35-9cbe26daacaa",
      "metadata": {
        "tags": [],
        "id": "dedb2d0a-67a9-4105-8b35-9cbe26daacaa"
      },
      "outputs": [],
      "source": [
        "links = []\n",
        "start_date = datetime.strptime('2023-01-24', \"%Y-%m-%d\")"
      ]
    },
    {
      "cell_type": "code",
      "execution_count": null,
      "id": "e95328d0-3111-4ac9-8096-1de546133eaf",
      "metadata": {
        "tags": [],
        "id": "e95328d0-3111-4ac9-8096-1de546133eaf"
      },
      "outputs": [],
      "source": [
        "for i in tqdm(range(1000000)):\n",
        "    res = requests.get(test1, headers=test2).json()\n",
        "    links += res\n",
        "    test1 = test1_1 + res[-1]['id'] + test1_2\n",
        "    if i % 500 == 1:\n",
        "        ids = [i['id'] for i in links if type(i) == dict]\n",
        "        print(len(list(set(ids))), len(links))\n",
        "        print(datetime.strptime(links[-1]['timestamp'].split('T')[0], \"%Y-%m-%d\"))\n",
        "    if start_date > datetime.strptime(links[-1]['timestamp'].split('T')[0], \"%Y-%m-%d\"):\n",
        "        print('finish')\n",
        "        break"
      ]
    },
    {
      "cell_type": "code",
      "execution_count": null,
      "id": "ae5f247b-ab26-4dbf-967b-b6ef77cdfa81",
      "metadata": {
        "tags": [],
        "id": "ae5f247b-ab26-4dbf-967b-b6ef77cdfa81",
        "outputId": "4e30c9f5-8fd5-4fbd-b056-cb8a919b6d19"
      },
      "outputs": [
        {
          "data": {
            "text/plain": [
              "3219800"
            ]
          },
          "execution_count": 11,
          "metadata": {},
          "output_type": "execute_result"
        }
      ],
      "source": [
        "len(links)"
      ]
    },
    {
      "cell_type": "code",
      "execution_count": null,
      "id": "6b03649e-c6ed-4a87-9efb-d947fc9772a8",
      "metadata": {
        "tags": [],
        "id": "6b03649e-c6ed-4a87-9efb-d947fc9772a8"
      },
      "outputs": [],
      "source": [
        "import json"
      ]
    },
    {
      "cell_type": "code",
      "execution_count": null,
      "id": "b16f1e21-7088-406b-a956-cd1db9c50b55",
      "metadata": {
        "tags": [],
        "id": "b16f1e21-7088-406b-a956-cd1db9c50b55",
        "outputId": "61a3dca2-80c1-4745-d34c-6089de463de3",
        "colab": {
          "referenced_widgets": [
            "9605407f3fde4de8a951f976203394ad"
          ]
        }
      },
      "outputs": [
        {
          "data": {
            "application/vnd.jupyter.widget-view+json": {
              "model_id": "9605407f3fde4de8a951f976203394ad",
              "version_major": 2,
              "version_minor": 0
            },
            "text/plain": [
              "  0%|          | 0/3219800 [00:00<?, ?it/s]"
            ]
          },
          "metadata": {},
          "output_type": "display_data"
        },
        {
          "data": {
            "text/plain": [
              "38796"
            ]
          },
          "execution_count": 27,
          "metadata": {},
          "output_type": "execute_result"
        }
      ],
      "source": [
        "counter = 0\n",
        "for index, link in enumerate(tqdm(links)):\n",
        "    if \"--v 6.0\" in link[\"content\"]:\n",
        "        counter += 1\n",
        "counter"
      ]
    },
    {
      "cell_type": "code",
      "execution_count": null,
      "id": "a2347851-466b-4861-bf65-c12fd6f4e521",
      "metadata": {
        "tags": [],
        "id": "a2347851-466b-4861-bf65-c12fd6f4e521"
      },
      "outputs": [],
      "source": [
        "v6_links = [link for link in links if \"--v 6.0\" in link[\"content\"]]"
      ]
    },
    {
      "cell_type": "code",
      "execution_count": null,
      "id": "ad629a6d-d4c8-4910-93f2-a66af21504cc",
      "metadata": {
        "tags": [],
        "id": "ad629a6d-d4c8-4910-93f2-a66af21504cc"
      },
      "outputs": [],
      "source": [
        "import pandas as pd\n",
        "pd.read_json(v6_links)"
      ]
    },
    {
      "cell_type": "code",
      "execution_count": null,
      "id": "0d5fa082-9ca2-4ef5-bfb5-967c377391e2",
      "metadata": {
        "tags": [],
        "id": "0d5fa082-9ca2-4ef5-bfb5-967c377391e2"
      },
      "outputs": [],
      "source": [
        "with open('/home/jovyan/azizov/mj_parsing/links_v6.json', 'w') as f:\n",
        "    json.dump(v6_links, f)"
      ]
    },
    {
      "cell_type": "code",
      "execution_count": null,
      "id": "da5903a7-ef9e-4951-924b-7932eddf301a",
      "metadata": {
        "tags": [],
        "id": "da5903a7-ef9e-4951-924b-7932eddf301a"
      },
      "outputs": [],
      "source": [
        "import json\n",
        "with open('/home/jovyan/azizov/mj_parsing/links.json', 'w') as f:\n",
        "    json.dump(links, f)"
      ]
    }
  ],
  "metadata": {
    "kernelspec": {
      "display_name": "Python [conda env:.mlspace-deforum-env]",
      "language": "python",
      "name": "conda-env-.mlspace-deforum-env-py"
    },
    "language_info": {
      "codemirror_mode": {
        "name": "ipython",
        "version": 3
      },
      "file_extension": ".py",
      "mimetype": "text/x-python",
      "name": "python",
      "nbconvert_exporter": "python",
      "pygments_lexer": "ipython3",
      "version": "3.11.7"
    },
    "colab": {
      "provenance": [],
      "include_colab_link": true
    }
  },
  "nbformat": 4,
  "nbformat_minor": 5
}